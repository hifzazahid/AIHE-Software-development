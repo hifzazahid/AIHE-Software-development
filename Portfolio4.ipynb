{
  "nbformat": 4,
  "nbformat_minor": 0,
  "metadata": {
    "colab": {
      "provenance": [],
      "authorship_tag": "ABX9TyOO1MOT0QTbB3ux9UYhqycM",
      "include_colab_link": true
    },
    "kernelspec": {
      "name": "python3",
      "display_name": "Python 3"
    },
    "language_info": {
      "name": "python"
    }
  },
  "cells": [
    {
      "cell_type": "markdown",
      "metadata": {
        "id": "view-in-github",
        "colab_type": "text"
      },
      "source": [
        "<a href=\"https://colab.research.google.com/github/hifzazahid/AIHE-Software-development/blob/main/Portfolio4.ipynb\" target=\"_parent\"><img src=\"https://colab.research.google.com/assets/colab-badge.svg\" alt=\"Open In Colab\"/></a>"
      ]
    },
    {
      "cell_type": "markdown",
      "source": [
        "# Write a Python program to add 'ing' at the end of a given string (length should be at least 3). If the given string already ends with 'ing' then add 'ly' instead. If the string length of the given string is less than 3, leave it unchanged."
      ],
      "metadata": {
        "id": "_qZhZh1gIakp"
      }
    },
    {
      "cell_type": "code",
      "source": [
        "# Take the input from user. Input function returns input in the string.\n",
        "string=input('Enter a string ')\n",
        "# First of all, we need the check the length of string. If it is less than three, we will not change it.\n",
        "if len(string)<3:\n",
        "  print('Length is less than 3, no change required.')\n",
        "else:#If the length of string is 3 or greater than we will move forward.\n",
        "  if(string.endswith('ing')): #if the given string ends with ing, then we will concatenate ly at the end.\n",
        "    string+='ly'\n",
        "  else:# otherwise we will concatenate ing\n",
        "    string+='ing'\n",
        "print(string)"
      ],
      "metadata": {
        "colab": {
          "base_uri": "https://localhost:8080/"
        },
        "id": "NNJuKbmyP5XG",
        "outputId": "a50e11e2-565c-4ded-deea-34894d7fe062"
      },
      "execution_count": 3,
      "outputs": [
        {
          "output_type": "stream",
          "name": "stdout",
          "text": [
            "Enter a string thinking\n",
            "thinkingly\n"
          ]
        }
      ]
    },
    {
      "cell_type": "markdown",
      "source": [
        "# Write a user defined Python program to read a string. Show the number of \"z\"'s in the string."
      ],
      "metadata": {
        "id": "lrZKwrKUUlSE"
      }
    },
    {
      "cell_type": "code",
      "source": [
        "st=input('Enter a string to count number of Z ')\n",
        "count=st.count('z')# count function returns the number of times a string exists in the given string.\n",
        "print('z exists', count , 'times')"
      ],
      "metadata": {
        "colab": {
          "base_uri": "https://localhost:8080/"
        },
        "id": "RgY6854AUbc0",
        "outputId": "2789925e-3638-4add-e443-33a51c049578"
      },
      "execution_count": 4,
      "outputs": [
        {
          "output_type": "stream",
          "name": "stdout",
          "text": [
            "Enter a string to count number of Z zebra is crossing the zebra cross.\n",
            "z exists 2 times\n"
          ]
        }
      ]
    },
    {
      "cell_type": "markdown",
      "source": [
        "# Given a string input count all lower case, upper case, digits, and special symbols.\n"
      ],
      "metadata": {
        "id": "Yt0bRYflU3uj"
      }
    },
    {
      "cell_type": "code",
      "source": [
        "str1= \"P@#yn26at^&5ve\" #we assigned the str1.\n",
        "lowerCount=0\n",
        "upperCount=0\n",
        "digitCount=0\n",
        "specialCount=0\n",
        "for char in str1: #we will perform the for loop char in string with the string1.\n",
        "    if(char.islower()): #so in the first the function will updated by their on self starting with first index.\n",
        "      lowerCount+=1 #as we have the index(0) as P and its is not lower case. so, it will remain 0.\n",
        "    elif(char.isupper()): #As the P is the upper case so, it will perform here.\n",
        "      upperCount+=1 #it will be 0+1 that will make the upperCount 1 as well.\n",
        "    elif(char.isdigit()): #it will repeat for digit as well but will remain 0.\n",
        "      digitCount+=1\n",
        "    else:\n",
        "      specialCount+=1 #as for special as well then this loop will continue for att the characters in the str1.\n",
        "\n",
        "print(upperCount, lowerCount, digitCount, specialCount)\n"
      ],
      "metadata": {
        "colab": {
          "base_uri": "https://localhost:8080/"
        },
        "id": "PvDrhbIggl80",
        "outputId": "4ecc2c9f-4e33-473f-b9f7-0ac094bbf9b0"
      },
      "execution_count": 14,
      "outputs": [
        {
          "output_type": "stream",
          "name": "stdout",
          "text": [
            "1 6 3 4\n"
          ]
        }
      ]
    },
    {
      "cell_type": "markdown",
      "source": [
        "# Write a Python program to get a string made of the first 2 and the last 2 chars from  a given a string. If the string length is less than 2, return the empty string"
      ],
      "metadata": {
        "id": "VQP13yxJgnBG"
      }
    },
    {
      "cell_type": "code",
      "source": [
        "given_string=input('Enter a string ') #given string\n",
        "# First we will check if the length of the given string is less than 2, If it is less than two,then we cannot have first\n",
        "# two and last two characters , as there is only a single character. So we will return an empty string.\n",
        "if(len(given_string)<2):\n",
        "  new_string=''\n",
        "else: # Otherwise we combine the first and last two characters to form a new string.\n",
        "  new_string=given_string[0:2] + given_string[-2:] # new string\n",
        "  print('The new string is', new_string)"
      ],
      "metadata": {
        "colab": {
          "base_uri": "https://localhost:8080/"
        },
        "id": "oBlYlZr3U9w9",
        "outputId": "fa6ce8e2-12b1-4fb8-bff5-6fee31415a27"
      },
      "execution_count": 7,
      "outputs": [
        {
          "output_type": "stream",
          "name": "stdout",
          "text": [
            "Enter a string hello\n",
            "The new string is helo\n"
          ]
        }
      ]
    }
  ]
}