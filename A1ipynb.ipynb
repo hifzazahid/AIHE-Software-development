{
  "nbformat": 4,
  "nbformat_minor": 0,
  "metadata": {
    "colab": {
      "provenance": [],
      "authorship_tag": "ABX9TyN6TrsTsnrS44QUnQY9CtQX",
      "include_colab_link": true
    },
    "kernelspec": {
      "name": "python3",
      "display_name": "Python 3"
    },
    "language_info": {
      "name": "python"
    }
  },
  "cells": [
    {
      "cell_type": "markdown",
      "metadata": {
        "id": "view-in-github",
        "colab_type": "text"
      },
      "source": [
        "<a href=\"https://colab.research.google.com/github/hifzazahid/AIHE-Software-development/blob/main/A1ipynb.ipynb\" target=\"_parent\"><img src=\"https://colab.research.google.com/assets/colab-badge.svg\" alt=\"Open In Colab\"/></a>"
      ]
    },
    {
      "cell_type": "markdown",
      "source": [
        "Activity 2:\n",
        "Write a pseudocode to display an area of a circle for a given radius"
      ],
      "metadata": {
        "id": "ao5pM-fy_DzJ"
      }
    },
    {
      "cell_type": "code",
      "source": [
        "Radius = 4\n",
        "pi = 3.1\n",
        "#calculate the area of circle\n",
        "AOC = pi*Radius*Radius\n",
        "print(\" value of circle, is:\", AOC)"
      ],
      "metadata": {
        "colab": {
          "base_uri": "https://localhost:8080/"
        },
        "id": "j8mRK3Mk_PU0",
        "outputId": "6d59d453-5130-4db1-98bd-55109e9d8331"
      },
      "execution_count": 1,
      "outputs": [
        {
          "output_type": "stream",
          "name": "stdout",
          "text": [
            " value of circle, is: 49.6\n"
          ]
        }
      ]
    },
    {
      "cell_type": "markdown",
      "source": [
        "Activity 3: A company has determined that its annual profit is typically 23 percent of total sales. Write a program that asks the user to enter the projected amount of total sales, and then displays the profit that will be made from that amount. Hint: Use the value 0.23 to represent 23 percent."
      ],
      "metadata": {
        "id": "fl4YgZJs_8sk"
      }
    },
    {
      "cell_type": "code",
      "source": [
        "x = int(input(\"Enter the total sales:\")) #input the total sales to user\n",
        "yearProfit = 0.23*x #assigned the yearProfit as the yearly profit\n",
        "print(\"value of yearProfit, is:\", yearProfit) #print the result of the yearProfit"
      ],
      "metadata": {
        "colab": {
          "base_uri": "https://localhost:8080/"
        },
        "id": "7ztz4R0UAMs6",
        "outputId": "5d60d754-261c-43da-b355-61b27ed4d3f5"
      },
      "execution_count": 2,
      "outputs": [
        {
          "output_type": "stream",
          "name": "stdout",
          "text": [
            "Enter the total sales:167500\n",
            "value of yearProfit, is: 38525.0\n"
          ]
        }
      ]
    },
    {
      "cell_type": "markdown",
      "source": [
        "Activity 4:One acre of land is equivalent to 43,560 square feet. Write a program that asks the user to enter the total square feet in a tract of land and calculates the number of acres in the tract. Hint: Divide the amount entered by 43,560 to get the number of acres."
      ],
      "metadata": {
        "id": "MP935ApKBmdy"
      }
    },
    {
      "cell_type": "code",
      "source": [
        "sf= int(input(\"Enter the total land in sf:\")) #give the user the input\n",
        "acres = sf/43560 #calculate the acres\n",
        "print (\"total acres is:\", acres) #display the result"
      ],
      "metadata": {
        "colab": {
          "base_uri": "https://localhost:8080/"
        },
        "id": "BYoQtIsUBwxK",
        "outputId": "a3e04a49-5e2f-47c0-fa23-54f4dd3da7b6"
      },
      "execution_count": 4,
      "outputs": [
        {
          "output_type": "stream",
          "name": "stdout",
          "text": [
            "Enter the total land in sf:35000\n",
            "total acres is: 0.8034894398530762\n"
          ]
        }
      ]
    },
    {
      "cell_type": "markdown",
      "source": [
        "Activity 5: A customer in a store is purchasing five items. Write a program that asks for the price of each item, and then displays the subtotal of the sale, the amount of sales tax, and the total. Assume the sales tax is 7 percent.\n"
      ],
      "metadata": {
        "id": "VIGCWD-sDDsZ"
      }
    },
    {
      "cell_type": "code",
      "source": [
        "item1 = int(input(\"Enter price of I1:\")) #enter the items.\n",
        "item2 = int(input(\"Enter price of I2:\"))\n",
        "item3 = int(input(\"Enter price of I3:\"))\n",
        "item4 = int(input(\"Enter price of I4:\"))\n",
        "item5 = int(input(\"Enter price of I5:\"))\n",
        "SubT = item1 + item2 + item3 + item4 + item5 #SubT is the Subtotal\n",
        "TA = SubT*0.07 #solve this statement and TA is the amount of sales tax\n",
        "NP = SubT - TA #NP is the Net Total\n",
        "print(\"the subtotal of the sale is:\", SubT, \"the amount of sale tax is:\", TA, \"Finally the net total is:\", NP)\n"
      ],
      "metadata": {
        "colab": {
          "base_uri": "https://localhost:8080/"
        },
        "id": "ifFXsGDGDQdm",
        "outputId": "5d23b9df-aba9-48cf-96e4-99e41dc76fe6"
      },
      "execution_count": 5,
      "outputs": [
        {
          "output_type": "stream",
          "name": "stdout",
          "text": [
            "Enter price of I1:250\n",
            "Enter price of I2:190\n",
            "Enter price of I3:780\n",
            "Enter price of I4:80\n",
            "Enter price of I5:340\n",
            "the subtotal of the sale is: 1640 the amount of sale tax is: 114.80000000000001 Finally the net total is: 1525.2\n"
          ]
        }
      ]
    }
  ]
}