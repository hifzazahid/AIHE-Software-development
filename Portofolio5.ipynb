{
  "nbformat": 4,
  "nbformat_minor": 0,
  "metadata": {
    "colab": {
      "provenance": [],
      "authorship_tag": "ABX9TyOUE8ieB2jh4U9XxgjJBlJN",
      "include_colab_link": true
    },
    "kernelspec": {
      "name": "python3",
      "display_name": "Python 3"
    },
    "language_info": {
      "name": "python"
    }
  },
  "cells": [
    {
      "cell_type": "markdown",
      "metadata": {
        "id": "view-in-github",
        "colab_type": "text"
      },
      "source": [
        "<a href=\"https://colab.research.google.com/github/hifzazahid/AIHE-Software-development/blob/main/Portofolio5.ipynb\" target=\"_parent\"><img src=\"https://colab.research.google.com/assets/colab-badge.svg\" alt=\"Open In Colab\"/></a>"
      ]
    },
    {
      "cell_type": "markdown",
      "source": [
        "Activity 1"
      ],
      "metadata": {
        "id": "KYHJkV0Sa5-H"
      }
    },
    {
      "cell_type": "code",
      "source": [
        "class Circle:\n",
        "  # We cannot define radius at class level, because then it will be shared by all the objects.\n",
        "  # radius=int(input('Enter radius : '))\n",
        "\n",
        "  # We create radius using constructor, because everytime a new Circle object is created, constructor is called.\n",
        "  # Now, each Circle object will have it's own copy of radius rather than having a shared class level variable.\n",
        "  def __init__(self):\n",
        "      self.radius = float(input('Enter radius : '))\n",
        "      # each time we create a circle object, constructor is called and we get a new value of radius for that circle object.\n",
        "      # self keyword makes sure that the circle object which calls the method is accessing the method.\n",
        "  def area(self):\n",
        "    area=3.14 * self.radius * self.radius\n",
        "    return area\n",
        "  def perimeter(self):\n",
        "   perimeter=2 * 3.14 * self.radius\n",
        "   return perimeter\n",
        "# we create two circles and each time we create a circle, constructor is called which asks the user to enter radius.\n",
        "# based on the entered value of radius, the area and the perimeter is calculated and returned by the respective methods.\n",
        "print('Cirlce 1')\n",
        "circle1=Circle()\n",
        "print('Area =',circle1.area())\n",
        "print('Perimeter =',circle1.perimeter())\n",
        "print('Cirlce 2')\n",
        "circle2=Circle()\n",
        "print('Area =',circle2.area())\n",
        "print('Perimeter =',circle2.perimeter())"
      ],
      "metadata": {
        "colab": {
          "base_uri": "https://localhost:8080/"
        },
        "id": "8zFUVjfkbB0o",
        "outputId": "758bd341-5ae6-4525-d6fc-42a08b6e781b"
      },
      "execution_count": 1,
      "outputs": [
        {
          "output_type": "stream",
          "name": "stdout",
          "text": [
            "Cirlce 1\n",
            "Enter radius : 2\n",
            "Area = 12.56\n",
            "Perimeter = 12.56\n",
            "Cirlce 2\n",
            "Enter radius : 4\n",
            "Area = 50.24\n",
            "Perimeter = 25.12\n"
          ]
        }
      ]
    },
    {
      "cell_type": "markdown",
      "source": [
        "Activity 2"
      ],
      "metadata": {
        "id": "mNDf_-3ZbaCZ"
      }
    },
    {
      "cell_type": "code",
      "source": [
        "class IntegerToRoman:\n",
        "    # Defining numbers and roman_numerals lists as class-level, because all objects need to use the same list.\n",
        "    # We are not defining them in the constructor because it will create the below two lists each time we create an instance which will be unnecessary.\n",
        "    val = [1000, 900, 500, 400, 100, 90, 50, 40, 10, 9, 5, 4, 1]\n",
        "    syb = ['M', 'CM', 'D', 'CD', 'C', 'XC', 'L', 'XL', 'X', 'IX', 'V', 'IV', 'I']\n",
        "\n",
        "    def __init__(self):\n",
        "        # Take user input directly in the constructor, because we need a different input each time we create an object.\n",
        "        self.num = int(input(\"Enter an integer to convert to Roman numeral: \"))\n",
        "\n",
        "    def int_to_roman(self, num):\n",
        "        roman_result = \"\"  # This will store the final Roman numeral\n",
        "\n",
        "        # Iterate over the list of numbers and corresponding Roman numerals\n",
        "        for i in range(len(self.val)):\n",
        "            # While the number to convert is greater than or equal to the current number in the list\n",
        "            while num >= self.val[i]:\n",
        "                # Append the corresponding Roman numeral to the result\n",
        "                roman_result += self.syb[i]\n",
        "                # Subtract the value of the current number from the number to convert\n",
        "                num -= self.val[i]\n",
        "\n",
        "        # Explanation of the loop using the example number 1947:\n",
        "        # The loop processes each value in the `numbers` list from largest to smallest.\n",
        "        # For each value, it checks if `num` is greater than or equal to the current value.\n",
        "        # If true, it subtracts the value from `num` and appends the corresponding Roman numeral to `roman_result`.\n",
        "\n",
        "        # Example with num = 1947:\n",
        "        # - For i = 0 (1000):\n",
        "        #   - num (1947) >= numbers[0] (1000), so append 'M' to `roman_result` and subtract 1000 from `num`.\n",
        "        #   - Now, num = 947 and roman_result = 'M'.\n",
        "        # - For i = 0 again (1000):\n",
        "        #   - num (947) < numbers[0] (1000), so move to the next value.\n",
        "        # - For i = 1 (900):\n",
        "        #   - num (947) >= numbers[1] (900), so append 'CM' to `roman_result` and subtract 900 from `num`.\n",
        "        #   - Now, num = 47 and roman_result = 'MCM'.\n",
        "        # - For i = 2 (500):\n",
        "        #   - num (47) < numbers[2] (500), so move to the next value.\n",
        "        # - Continue this process until num is reduced to 0 and the Roman numeral is complete.\n",
        "\n",
        "        return roman_result\n",
        "\n",
        "converter = IntegerToRoman()\n",
        "print(\"The Roman numeral for\", converter.num, \"is:\", converter.int_to_roman(converter.num))"
      ],
      "metadata": {
        "colab": {
          "base_uri": "https://localhost:8080/"
        },
        "id": "5D_B_Us4bfAF",
        "outputId": "6fe46ebf-0075-425b-89a6-ca80fa73ed87"
      },
      "execution_count": 2,
      "outputs": [
        {
          "output_type": "stream",
          "name": "stdout",
          "text": [
            "Enter an integer to convert to Roman numeral: 2\n",
            "The Roman numeral for 2 is: II\n"
          ]
        }
      ]
    },
    {
      "cell_type": "markdown",
      "source": [
        "Activity 3"
      ],
      "metadata": {
        "id": "NULqHVV6bpuv"
      }
    },
    {
      "cell_type": "code",
      "source": [
        "class ListOperations:\n",
        "    def __init__(self):\n",
        "        # creating an empty list each time an object is created. So that we can have different lists for mulitple objects\n",
        "        self.lst = []\n",
        "\n",
        "    def append_element(self, element):\n",
        "      # if the element is already in the list, we dont appent, otherwise we add it to our list\n",
        "        if element in self.lst:\n",
        "            print(\"Element already exists in the list.\")\n",
        "        else:\n",
        "            self.lst.append(element)\n",
        "            print(\"Element appended successfully.\")\n",
        "\n",
        "    def delete_element(self, element):\n",
        "      # Before deleting we need to check if the list is empty or not, if it is we dont need to take input from user.\n",
        "      # that's why we display list is empty cannot delete an element and the code runs again with choice menu\n",
        "        if self.lst:  # Check if list is not empty\n",
        "            if element in self.lst:\n",
        "                self.lst.remove(element)\n",
        "                print(\"Element deleted successfully.\")\n",
        "            else:\n",
        "                print(\"Element not found in the list.\")\n",
        "        else:\n",
        "            print(\"List is empty. Cannot delete elements.\")\n",
        "\n",
        "    def display_elements(self):\n",
        "\n",
        "        # if there are elements in the list, we show them, otherwise we show list is empty.\n",
        "        if self.lst:\n",
        "           print(\"\\n                                   Your list is =\",self.lst)\n",
        "        else:\n",
        "            print(\"\\n                                  Your list = []\")\n",
        "\n",
        "# Create an object of the ListOperations class\n",
        "list_obj = ListOperations()\n",
        "\n",
        "while True:\n",
        "    list_obj.display_elements()  # Display elements before showing options\n",
        "    print(\"\\nChoose an option:\")\n",
        "    print(\"1. Append element\")\n",
        "    print(\"2. Delete element\")\n",
        "    print(\"3. Display elements\")\n",
        "    print(\"4. Exit\")\n",
        "    choice = int(input(\"\\nEnter your choice: \"))\n",
        "\n",
        "    if choice == 1:\n",
        "        element = input(\"Enter the element to append: \")\n",
        "        list_obj.append_element(element)\n",
        "    elif choice == 2:\n",
        "        if list_obj.lst:  # Check if list is not empty\n",
        "            list_obj.display_elements()  # Display elements before deleting\n",
        "            element = input(\"Enter the element to delete: \")\n",
        "            list_obj.delete_element(element)\n",
        "        else:\n",
        "            print(\"List is empty. Cannot delete elements.\")\n",
        "    elif choice == 3:\n",
        "        list_obj.display_elements()\n",
        "    elif choice == 4:\n",
        "        break\n",
        "    else:\n",
        "        print(\"Invalid choice. Please try again.\")\n",
        "print(list_obj.display_elements())"
      ],
      "metadata": {
        "colab": {
          "base_uri": "https://localhost:8080/"
        },
        "id": "6wBdkZARbrmV",
        "outputId": "ab8b2421-d5ee-4466-e627-58df868979f6"
      },
      "execution_count": 4,
      "outputs": [
        {
          "output_type": "stream",
          "name": "stdout",
          "text": [
            "\n",
            "                                  Your list = []\n",
            "\n",
            "Choose an option:\n",
            "1. Append element\n",
            "2. Delete element\n",
            "3. Display elements\n",
            "4. Exit\n",
            "\n",
            "Enter your choice: 3\n",
            "\n",
            "                                  Your list = []\n",
            "\n",
            "                                  Your list = []\n",
            "\n",
            "Choose an option:\n",
            "1. Append element\n",
            "2. Delete element\n",
            "3. Display elements\n",
            "4. Exit\n",
            "\n",
            "Enter your choice: 4\n",
            "\n",
            "                                  Your list = []\n",
            "None\n"
          ]
        }
      ]
    }
  ]
}