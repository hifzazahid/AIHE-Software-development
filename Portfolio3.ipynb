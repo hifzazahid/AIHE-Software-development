{
  "nbformat": 4,
  "nbformat_minor": 0,
  "metadata": {
    "colab": {
      "provenance": [],
      "authorship_tag": "ABX9TyN+lZ1DQE+Bs5vrUKo9316N",
      "include_colab_link": true
    },
    "kernelspec": {
      "name": "python3",
      "display_name": "Python 3"
    },
    "language_info": {
      "name": "python"
    }
  },
  "cells": [
    {
      "cell_type": "markdown",
      "metadata": {
        "id": "view-in-github",
        "colab_type": "text"
      },
      "source": [
        "<a href=\"https://colab.research.google.com/github/hifzazahid/AIHE-Software-development/blob/main/Portfolio3.ipynb\" target=\"_parent\"><img src=\"https://colab.research.google.com/assets/colab-badge.svg\" alt=\"Open In Colab\"/></a>"
      ]
    },
    {
      "cell_type": "markdown",
      "source": [
        "Activity - 1:\n",
        "Write a python program that has a list of even numbers up to 20. Display the first 3 elements from the list one by one, then display all numbers in the list, using range function. Extend your program to display an average of the given even numbers in the list"
      ],
      "metadata": {
        "id": "BVGtpdwC2MnR"
      }
    },
    {
      "cell_type": "code",
      "source": [
        "even_numbers = [2, 4,6,8,10,12,14,16,18,20]\n",
        "# To display first three elements separately, using indexes from 0 to 2\n",
        "print('Printing first three elements one by one, using indexes')\n",
        "print(even_numbers[0])\n",
        "print(even_numbers[1])\n",
        "print(even_numbers[2])\n",
        "\n",
        "# To display all the elements of the list, without range\n",
        "print('Printing all elements without range')\n",
        "for number in even_numbers:\n",
        "  print(number)\n",
        "\n",
        "# To display the average of all elements or numbers in the list, we will loop through each element, and add the number to a variable sum which is initially zero\n",
        "print('Printing average of the list')\n",
        "sum=0\n",
        "avg=0\n",
        "for number in even_numbers:\n",
        "  sum=sum+number\n",
        "avg=sum/len(even_numbers)\n",
        "print('The average is '+ str(avg))"
      ],
      "metadata": {
        "colab": {
          "base_uri": "https://localhost:8080/"
        },
        "id": "JW2_XMjR2OKH",
        "outputId": "787b798c-8c62-47b0-a106-611ac5fad7e2"
      },
      "execution_count": 9,
      "outputs": [
        {
          "output_type": "stream",
          "name": "stdout",
          "text": [
            "Printing first three elements one by one, using indexes\n",
            "2\n",
            "4\n",
            "6\n",
            "Printing all elements without range\n",
            "2\n",
            "4\n",
            "6\n",
            "8\n",
            "10\n",
            "12\n",
            "14\n",
            "16\n",
            "18\n",
            "20\n",
            "Printing average of the list\n",
            "The average is 11.0\n"
          ]
        }
      ]
    },
    {
      "cell_type": "markdown",
      "source": [
        "Activity - 2:\n",
        "Write a python program that has a list of 5 numbers [1,2,3,4,5]. Print the first 3 elements from the list using slice expression. Extend this program in a manner that the elements in the list are changed to [2,4,6,8,10] that means each element is times 2 of the previous value. Extend your program to display the min and max value in the list."
      ],
      "metadata": {
        "id": "6iFgTvrn2hgE"
      }
    },
    {
      "cell_type": "code",
      "source": [
        "numbers=[1,2,3,4,5]\n",
        "# Slicing using slice expression to get a slice of first three numbers form the list, slice[a:b], a is inclusive and b is exclusive\n",
        "sliced_list=numbers[0:3] # numbers[:3] will also give the same result as it will by default start slicing from 0th index\n",
        "print('The sub-list of first 3 elements is : ',str(sliced_list))\n",
        "# Changing each element of list by multiplyin with 2\n",
        "i=0\n",
        "for num in numbers:\n",
        "  numbers[i]=num*2\n",
        "  i+=1\n",
        "print('Updated list with each element times 2 is : ' + str(numbers))\n",
        "# Finding the min and max element from the updated list\n",
        "min_val=min(numbers)\n",
        "max_val=max(numbers)\n",
        "print('The minimum number is : ' + str(min_val))\n",
        "print('The maximum number is : ' + str(max_val))"
      ],
      "metadata": {
        "colab": {
          "base_uri": "https://localhost:8080/"
        },
        "id": "SajlG6C12nrp",
        "outputId": "255985f7-bc7f-4cd5-c393-b53d479eeb3b"
      },
      "execution_count": 11,
      "outputs": [
        {
          "output_type": "stream",
          "name": "stdout",
          "text": [
            "The sub-list of first 3 elements is :  [1, 2, 3]\n",
            "Updated list with each element times 2 is : [2, 4, 6, 8, 10]\n",
            "The minimum number is : 2\n",
            "The maximum number is : 10\n"
          ]
        }
      ]
    },
    {
      "cell_type": "markdown",
      "source": [
        "Activity - 3\n",
        "Write a python program that has four lists: summer = ['Dec', 'Jan', 'Feb'] autumn = ['Mar', 'Apr', 'May'] winter = ['Jun', 'Jul', 'Jul', 'Aug'] spring = ['Oct', 'Nov'] First, remove the excess month ‘Jul’ from the list winter and add month ‘Sep’ at the beginning of the spring list. Then, make two new lists: MonthsISleep and MonthsIParty, copying the appropriate parts from the existing lists so that the list MonthsISleep contains all the months from ‘Feb’ to ‘Nov’ and the second list MonthIParty contains the remaining 2 months. − Display elements form both lists: MonthsISleep and MonthsIParty. − Display the elements of list summer in reverse order"
      ],
      "metadata": {
        "id": "6_rQvxUa25QU"
      }
    },
    {
      "cell_type": "code",
      "source": [
        "summer = ['Dec', 'Jan', 'Feb']\n",
        "autumn = ['Mar', 'Apr', 'May']\n",
        "winter = ['Jun', 'Jul', 'Jul', 'Aug']\n",
        "spring = ['Oct', 'Nov']\n",
        "# Using remove function to remove 'July' from winter list, remove function removes only first occurence of that element\n",
        "winter.remove('Jul')\n",
        "print('After removing Jul, winter = ' + str(winter))\n",
        "# Using insert to add 'Sep' at the beginning of spring list, 0,'Sep' means insert 'Sep' at zeroth index\n",
        "spring.insert(0,'Sep')\n",
        "print('After adding Sep, spring = ' + str(spring))\n",
        "# Making two lists, MonthsISleep and MonthsIParty and using + operator to copy required months from previous lists\n",
        "MonthISleep=summer[1:2]+autumn+winter+spring\n",
        "print('MonthISleep list is = ', str(MonthISleep))\n",
        "# in above line, we have used slice expression here because it returns in the form of list not a single element. Using summer[2] will give a string 'Feb' and + won't work\n",
        "MonthIsParty=summer[0:2]\n",
        "print('MonthIsPart list is = ', str(MonthIsParty))"
      ],
      "metadata": {
        "colab": {
          "base_uri": "https://localhost:8080/"
        },
        "id": "9xG8b7Zk29ca",
        "outputId": "d9629b8e-d16c-4290-ff7b-9d0372ac6a63"
      },
      "execution_count": 12,
      "outputs": [
        {
          "output_type": "stream",
          "name": "stdout",
          "text": [
            "After removing Jul, winter = ['Jun', 'Jul', 'Aug']\n",
            "After adding Sep, spring = ['Sep', 'Oct', 'Nov']\n",
            "MonthISleep list is =  ['Jan', 'Mar', 'Apr', 'May', 'Jun', 'Jul', 'Aug', 'Sep', 'Oct', 'Nov']\n",
            "MonthIsPart list is =  ['Dec', 'Jan']\n"
          ]
        }
      ]
    }
  ]
}