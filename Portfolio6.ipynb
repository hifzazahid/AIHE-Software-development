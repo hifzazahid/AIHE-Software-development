{
  "nbformat": 4,
  "nbformat_minor": 0,
  "metadata": {
    "colab": {
      "provenance": [],
      "authorship_tag": "ABX9TyMtpyG+R0UkpY3343/PRKtQ",
      "include_colab_link": true
    },
    "kernelspec": {
      "name": "python3",
      "display_name": "Python 3"
    },
    "language_info": {
      "name": "python"
    }
  },
  "cells": [
    {
      "cell_type": "markdown",
      "metadata": {
        "id": "view-in-github",
        "colab_type": "text"
      },
      "source": [
        "<a href=\"https://colab.research.google.com/github/hifzazahid/AIHE-Software-development/blob/main/Portfolio6.ipynb\" target=\"_parent\"><img src=\"https://colab.research.google.com/assets/colab-badge.svg\" alt=\"Open In Colab\"/></a>"
      ]
    },
    {
      "cell_type": "markdown",
      "source": [
        "Activity 1"
      ],
      "metadata": {
        "id": "lhDZOAFSbAeQ"
      }
    },
    {
      "cell_type": "code",
      "source": [
        "inventory = { 'purchase': 500,\n",
        "             'bag': ['apple', 'bread', 'milk'],\n",
        "             'pack': ['canvas', 'paper', 'rope', 'loaf']}\n",
        "# Add a key to inventory called 'pocket'.\n",
        "# Set the value of 'pocket' to be a list consisting of the strings: 'shell', 'berry', and 'mint'.\n",
        "inventory['pocket'] = ['shell', 'berry', 'mint']\n",
        "# Remove 'paper' from the list of items stored under the 'pack' key.\n",
        "if 'paper' in inventory['pack']:\n",
        "    inventory['pack'].remove('paper')\n",
        "# Add 50 to the number stored under the 'purchase' key\n",
        "inventory['purchase'] += 50\n",
        "print(inventory)"
      ],
      "metadata": {
        "colab": {
          "base_uri": "https://localhost:8080/"
        },
        "id": "FHi8BCbubDmz",
        "outputId": "89e8d72f-f790-4cd5-a957-e62f6d558023"
      },
      "execution_count": 6,
      "outputs": [
        {
          "output_type": "stream",
          "name": "stdout",
          "text": [
            "{'purchase': 550, 'bag': ['apple', 'bread', 'milk'], 'pack': ['canvas', 'rope', 'loaf'], 'pocket': ['shell', 'berry', 'mint']}\n"
          ]
        }
      ]
    },
    {
      "cell_type": "markdown",
      "source": [
        "Activity 2"
      ],
      "metadata": {
        "id": "XNMCiwSTb6pt"
      }
    },
    {
      "cell_type": "code",
      "source": [
        "prices = {\"banana\": 4, \"apple\": 2, \"orange\": 1.5, \"pear\": 3} # Define the dictionaries\n",
        "stock = {\"banana\": 6, \"apple\": 0, \"orange\": 32, \"pear\": 15}\n",
        "# Loop through each key in prices and print out the price and stock information\n",
        "for item in prices:\n",
        "    print(item)\n",
        "    print(f\"price: {prices[item]}\")\n",
        "    print(f\"stock: {stock[item]}\")\n",
        "    print() # Adds a blank line for better readability\n",
        "# Determine how much money you would make if you sold all your food\n",
        "total = 0\n",
        "\n",
        "for item in prices:\n",
        "    item_total = prices[item] * stock[item]\n",
        "    print(f\"{item} total value: {item_total}\")\n",
        "    total += item_total\n",
        "print(f\"Total revenue if all food is sold: {total}\")"
      ],
      "metadata": {
        "colab": {
          "base_uri": "https://localhost:8080/"
        },
        "id": "OY87zaewb8vN",
        "outputId": "8f35f424-f95a-4e5c-f039-df8965617d12"
      },
      "execution_count": 7,
      "outputs": [
        {
          "output_type": "stream",
          "name": "stdout",
          "text": [
            "banana\n",
            "price: 4\n",
            "stock: 6\n",
            "\n",
            "apple\n",
            "price: 2\n",
            "stock: 0\n",
            "\n",
            "orange\n",
            "price: 1.5\n",
            "stock: 32\n",
            "\n",
            "pear\n",
            "price: 3\n",
            "stock: 15\n",
            "\n",
            "banana total value: 24\n",
            "apple total value: 0\n",
            "orange total value: 48.0\n",
            "pear total value: 45\n",
            "Total revenue if all food is sold: 117.0\n"
          ]
        }
      ]
    },
    {
      "cell_type": "markdown",
      "source": [
        "Activity 3"
      ],
      "metadata": {
        "id": "qN-zdtSXkrPr"
      }
    },
    {
      "cell_type": "code",
      "source": [
        "stock = {\n",
        "    \"banana\": 6,\n",
        "    \"apple\": 0,\n",
        "    \"orange\": 32,\n",
        "    \"pear\": 15\n",
        "}\n",
        "\n",
        "prices = {\n",
        "    \"banana\": 4,\n",
        "    \"apple\": 2,\n",
        "    \"orange\": 1.5,\n",
        "    \"pear\": 3\n",
        "} # Define the dictionaries\n",
        "shopping_list = [\"banana\", \"orange\", \"apple\"] # Define the shopping list\n",
        "# Define the compute_bill function\n",
        "def compute_bill(food):\n",
        "    total = 0\n",
        "    for item in food:\n",
        "        if stock[item] > 0:  # Only add to total if the item is in stock\n",
        "            total += prices[item]\n",
        "            stock[item] -= 1  # Subtract one from the item's stock count\n",
        "    return total\n",
        "# Calculate the bill for the shopping list\n",
        "total_cost = compute_bill(shopping_list)\n",
        "print(f\"Total cost: {total_cost}\")\n",
        "\n",
        "# Print the updated stock after the bill is computed\n",
        "print(\"Updated stock:\", stock)"
      ],
      "metadata": {
        "colab": {
          "base_uri": "https://localhost:8080/"
        },
        "id": "BHExQZkGkuJd",
        "outputId": "d0cb4369-9583-4134-82fe-b9b58627ba69"
      },
      "execution_count": 8,
      "outputs": [
        {
          "output_type": "stream",
          "name": "stdout",
          "text": [
            "Total cost: 5.5\n",
            "Updated stock: {'banana': 5, 'apple': 0, 'orange': 31, 'pear': 15}\n"
          ]
        }
      ]
    }
  ]
}