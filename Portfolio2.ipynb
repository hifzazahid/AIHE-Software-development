{
  "nbformat": 4,
  "nbformat_minor": 0,
  "metadata": {
    "colab": {
      "provenance": [],
      "authorship_tag": "ABX9TyNfW4/vPkfogBqBqYAxcv42",
      "include_colab_link": true
    },
    "kernelspec": {
      "name": "python3",
      "display_name": "Python 3"
    },
    "language_info": {
      "name": "python"
    }
  },
  "cells": [
    {
      "cell_type": "markdown",
      "metadata": {
        "id": "view-in-github",
        "colab_type": "text"
      },
      "source": [
        "<a href=\"https://colab.research.google.com/github/hifzazahid/AIHE-Software-development/blob/main/Portfolio2.ipynb\" target=\"_parent\"><img src=\"https://colab.research.google.com/assets/colab-badge.svg\" alt=\"Open In Colab\"/></a>"
      ]
    },
    {
      "cell_type": "markdown",
      "source": [
        "# Activity -1: Write a python program that will ask the user their age and if the age is less than 18 it will print that you are a minor\n",
        "\n"
      ],
      "metadata": {
        "id": "PfdWfq2CBC3Z"
      }
    },
    {
      "cell_type": "code",
      "source": [
        "Age = int(input(\"Enter the user age \")) #give the user age\n",
        "if Age<18:\n",
        "   print('You are a minor') #if it is less than 18 then you are a minor."
      ],
      "metadata": {
        "colab": {
          "base_uri": "https://localhost:8080/"
        },
        "id": "Tbix3N2sBqLB",
        "outputId": "dc7c0895-a4ea-4a3e-d430-fcac33a866f2"
      },
      "execution_count": null,
      "outputs": [
        {
          "output_type": "stream",
          "name": "stdout",
          "text": [
            "Enter the user age 7\n",
            "You are a minor\n"
          ]
        }
      ]
    },
    {
      "cell_type": "markdown",
      "source": [
        "# Activity -2: Write a python program that will ask the user their age and if the age is less than 18, then if the child's age is less than 5 then no ticket price otherwise 1/2 the full price and if the user's age is greater than or equal to 18 then full price."
      ],
      "metadata": {
        "id": "8hy-iReyDPBG"
      }
    },
    {
      "cell_type": "code",
      "source": [
        "Price = int(input(\"Enther the ticket price \"))\n",
        "Age = int(input(\"Enter the user age \")) #give the user their age\n",
        "if Age<18:\n",
        "   print('Ticket price will be 1/2') #I applied the if to the given user age.\n",
        "   print(Price*0.5) # to get the half price\n",
        "elif Age<5:\n",
        "   print ('No ticket price') #I applied elif because it will be either age is less than 5 and if is applied before. and i also need one result as well.\n",
        "else:\n",
        "   print('Ticket will be full price') #else is to that all the greater age than 18."
      ],
      "metadata": {
        "colab": {
          "base_uri": "https://localhost:8080/"
        },
        "id": "UGTp4Q0eEUYo",
        "outputId": "dc45a7b8-826e-46e1-bfa8-1057c1ef28cf"
      },
      "execution_count": 8,
      "outputs": [
        {
          "output_type": "stream",
          "name": "stdout",
          "text": [
            "Enther the ticket price 1000\n",
            "Enter the user age 12\n",
            "Ticket price will be 1/2\n",
            "500.0\n"
          ]
        }
      ]
    },
    {
      "cell_type": "markdown",
      "source": [
        "# Write a python program that will ask the user the marks achieved in a subject and your program must display the grade according to the following rule: a. 0-49 - \"FAIL\" b. 50-64 - \"PASS\" c. 65 - 74 - \"CREDIT\" d. 75-84 - \"DIST\" and above and equal to 85 - \"HD\""
      ],
      "metadata": {
        "id": "kOqdVR1VIsJq"
      }
    },
    {
      "cell_type": "code",
      "source": [
        "Usermarks = int(input(\"Enter the user marks \")) #assigned the user the marks\n",
        "if Usermarks>=0 and Usermarks<=49: #I applied the if conditional statement that if the usermarks is greater than & equal to 0 and usermarks are less than & equal to 49.\n",
        "   print('FAIL')\n",
        "elif Usermarks>=50 and Usermarks<=64: #I applied the if conditional statement that if the usermarks is greater than & equal to 50 and usermarks are less than & equal to 64.\n",
        "   print('PASS')\n",
        "elif Usermarks>=65 and Usermarks<=74: #I applied the if conditional statement that if the usermarks is greater than & equal to 65 and usermarks are less than & equal to 74.\n",
        "   print('CREDIT')\n",
        "elif Usermarks>=75 and Usermarks<=84: #I applied the if conditional statement that if the usermarks is greater than & equal to 75 and usermarks are less than & equal to 84.\n",
        "   print('DIST')\n",
        "else: #all the above ones.\n",
        "   print('HD')"
      ],
      "metadata": {
        "id": "MOEujRQII97V",
        "colab": {
          "base_uri": "https://localhost:8080/"
        },
        "outputId": "737c87c6-347e-401f-9792-f955e868fedb"
      },
      "execution_count": 11,
      "outputs": [
        {
          "output_type": "stream",
          "name": "stdout",
          "text": [
            "Enter the user marks 75\n",
            "DIST\n"
          ]
        }
      ]
    },
    {
      "cell_type": "markdown",
      "source": [
        "# Write a python program that accepts day, month and last two digits of the year of a date and  your program must display if the date is magic or not. (A date is magic date when (day * month = last two digits of year) For example: if the date is 10/6/60 Then 10 * 6 = 60 so the date is a magic date."
      ],
      "metadata": {
        "id": "pDdYGXhlSM1W"
      }
    },
    {
      "cell_type": "code",
      "source": [
        "day= int(input('Enter the day ')) #assigned the the day of the birth.\n",
        "month = int(input('Enter the month ')) # assigned your DOB's month.\n",
        "year = int(input('Enter the last two digit year ')) #Give the last two digits of your birth year.\n",
        "R = day*month # just make the equation to make it easy and solve it.\n",
        "if R==year: #I used the equality operator and operator will return “true” if both the operands are equal.\n",
        "   print('It is a magic date')\n",
        "else:\n",
        "   print('It is not a magic date')"
      ],
      "metadata": {
        "colab": {
          "base_uri": "https://localhost:8080/"
        },
        "id": "b5tWqglySUna",
        "outputId": "2f200398-0813-43b8-d2f8-de171e21c2ff"
      },
      "execution_count": 17,
      "outputs": [
        {
          "output_type": "stream",
          "name": "stdout",
          "text": [
            "Enter the day 01\n",
            "Enter the month 11\n",
            "Enter the last two digit year 00\n",
            "It is not a magic date\n"
          ]
        }
      ]
    }
  ]
}